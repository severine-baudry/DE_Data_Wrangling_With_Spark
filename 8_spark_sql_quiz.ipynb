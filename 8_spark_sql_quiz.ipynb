{
 "cells": [
  {
   "cell_type": "markdown",
   "metadata": {},
   "source": [
    "# Data Wrangling with Spark SQL Quiz\n",
    "\n",
    "This quiz uses the same dataset and most of the same questions from the earlier \"Quiz - Data Wrangling with Data Frames Jupyter Notebook.\" For this quiz, however, use Spark SQL instead of Spark Data Frames."
   ]
  },
  {
   "cell_type": "code",
   "execution_count": 1,
   "metadata": {},
   "outputs": [],
   "source": [
    "from pyspark.sql import SparkSession\n",
    "\n",
    "# TODOS: \n",
    "# 1) import any other libraries you might need\n",
    "# 2) instantiate a Spark session \n",
    "spark_session = SparkSession \\\n",
    "    .builder \\\n",
    "    .appName(\"Data wrangling with spark SQL quiz\") \\\n",
    "    .getOrCreate()\n",
    "# 3) read in the data set located at the path \"data/sparkify_log_small.json\"\n",
    "sparkify_log = spark_session.read.json(\"data/sparkify_log_small.json\")\n",
    "# 4) create a view to use with your SQL queries\n",
    "sparkify_log.createOrReplaceTempView(\"spark_log_table\")\n",
    "# 5) write code to answer the quiz questions "
   ]
  },
  {
   "cell_type": "markdown",
   "metadata": {},
   "source": [
    "# Question 1\n",
    "\n",
    "Which page did user id \"\"(empty string) NOT visit?"
   ]
  },
  {
   "cell_type": "code",
   "execution_count": 2,
   "metadata": {},
   "outputs": [
    {
     "name": "stdout",
     "output_type": "stream",
     "text": [
      "+----------------+----+\n",
      "|            page|page|\n",
      "+----------------+----+\n",
      "|Submit Downgrade|null|\n",
      "|       Downgrade|null|\n",
      "|          Logout|null|\n",
      "|   Save Settings|null|\n",
      "|        Settings|null|\n",
      "|        NextSong|null|\n",
      "|         Upgrade|null|\n",
      "|           Error|null|\n",
      "|  Submit Upgrade|null|\n",
      "+----------------+----+\n",
      "\n"
     ]
    }
   ],
   "source": [
    "# TODO: write your code to answer question 1\n",
    "spark_session.sql('''\n",
    "WITH null_user AS (\n",
    "        SELECT DISTINCT page\n",
    "        FROM spark_log_table\n",
    "        WHERE userId = \"\"\n",
    "                ),\n",
    "    no_null_user AS(\n",
    "        SELECT DISTINCT page\n",
    "        FROM spark_log_table\n",
    "        WHERE userId != \"\"\n",
    "        )\n",
    "    SELECT * \n",
    "    FROM no_null_user\n",
    "    LEFT JOIN null_user ON null_user.page = no_null_user.page\n",
    "    WHERE null_user.page IS NULL\n",
    "''').show()"
   ]
  },
  {
   "cell_type": "markdown",
   "metadata": {},
   "source": [
    "# Question 2 - Reflect\n",
    "\n",
    "Why might you prefer to use SQL over data frames? Why might you prefer data frames over SQL?"
   ]
  },
  {
   "cell_type": "markdown",
   "metadata": {},
   "source": [
    "# Question 3\n",
    "\n",
    "How many female users do we have in the data set?"
   ]
  },
  {
   "cell_type": "code",
   "execution_count": 3,
   "metadata": {},
   "outputs": [
    {
     "name": "stdout",
     "output_type": "stream",
     "text": [
      "+----------------------+\n",
      "|count(DISTINCT userId)|\n",
      "+----------------------+\n",
      "|                   462|\n",
      "+----------------------+\n",
      "\n"
     ]
    }
   ],
   "source": [
    "# TODO: write your code to answer question 3\n",
    "spark_session.sql('''\n",
    "    SELECT count( DISTINCT userId) \n",
    "    FROM spark_log_table\n",
    "    WHERE gender == \"F\"\n",
    "''').show()\n"
   ]
  },
  {
   "cell_type": "markdown",
   "metadata": {},
   "source": [
    "# Question 4\n",
    "\n",
    "How many songs were played from the most played artist?"
   ]
  },
  {
   "cell_type": "code",
   "execution_count": null,
   "metadata": {},
   "outputs": [],
   "source": []
  },
  {
   "cell_type": "code",
   "execution_count": 4,
   "metadata": {},
   "outputs": [
    {
     "data": {
      "text/plain": [
       "DataFrame[]"
      ]
     },
     "execution_count": 4,
     "metadata": {},
     "output_type": "execute_result"
    }
   ],
   "source": [
    "spark_session.sql(''' \n",
    "    DROP TABLE IF EXISTS numsongs_table''')"
   ]
  },
  {
   "cell_type": "code",
   "execution_count": 5,
   "metadata": {},
   "outputs": [
    {
     "name": "stdout",
     "output_type": "stream",
     "text": [
      "+--------+-------------+\n",
      "|  artist|song_listened|\n",
      "+--------+-------------+\n",
      "|Coldplay|           83|\n",
      "+--------+-------------+\n",
      "\n"
     ]
    }
   ],
   "source": [
    "# TODO: write your code to answer question 4\n",
    "spark_session.sql('''\n",
    "    WITH numsongs_table AS(\n",
    "        SELECT artist, count(song) as song_listened\n",
    "        FROM spark_log_table\n",
    "        WHERE artist IS NOT NULL\n",
    "        GROUP BY artist\n",
    "        ),\n",
    "    max_songs AS(\n",
    "        SELECT max(song_listened) as max_num_songs\n",
    "        FROM numsongs_table\n",
    "        GROUP BY 1 = 1 \n",
    "    )\n",
    "    SELECT artist, song_listened\n",
    "    FROM numsongs_table\n",
    "    JOIN max_songs ON max_songs.max_num_songs = numsongs_table.song_listened\n",
    "''').show()"
   ]
  },
  {
   "cell_type": "code",
   "execution_count": 6,
   "metadata": {},
   "outputs": [
    {
     "name": "stdout",
     "output_type": "stream",
     "text": [
      "+--------------------+-------------+\n",
      "|              artist|song_listened|\n",
      "+--------------------+-------------+\n",
      "|            Coldplay|           83|\n",
      "|       Kings Of Leon|           69|\n",
      "|Florence + The Ma...|           52|\n",
      "|            BjÃÂ¶rk|           46|\n",
      "|       Dwight Yoakam|           45|\n",
      "|       Justin Bieber|           43|\n",
      "|      The Black Keys|           40|\n",
      "|         OneRepublic|           37|\n",
      "|                Muse|           36|\n",
      "|        Jack Johnson|           36|\n",
      "|           Radiohead|           31|\n",
      "|        Taylor Swift|           29|\n",
      "|Barry Tuckwell/Ac...|           28|\n",
      "|          Lily Allen|           28|\n",
      "|               Train|           28|\n",
      "|           Daft Punk|           27|\n",
      "|           Metallica|           27|\n",
      "|          Nickelback|           27|\n",
      "|          Kanye West|           26|\n",
      "|Red Hot Chili Pep...|           24|\n",
      "+--------------------+-------------+\n",
      "only showing top 20 rows\n",
      "\n"
     ]
    }
   ],
   "source": [
    "spark_session.sql('''\n",
    "    SELECT artist,count(page) as song_listened\n",
    "    FROM spark_log_table\n",
    "    GROUP BY artist\n",
    "    ORDER BY count(song) DESC\n",
    "    ''').show()"
   ]
  },
  {
   "cell_type": "markdown",
   "metadata": {},
   "source": [
    "# Question 5 (challenge)\n",
    "\n",
    "How many songs do users listen to on average between visiting our home page? Please round your answer to the closest integer."
   ]
  },
  {
   "cell_type": "code",
   "execution_count": 7,
   "metadata": {},
   "outputs": [
    {
     "name": "stdout",
     "output_type": "stream",
     "text": [
      "+------+-------------+--------+-------+\n",
      "|userId|           ts|    page|is_home|\n",
      "+------+-------------+--------+-------+\n",
      "|    10|1513790894284|NextSong|      0|\n",
      "|    10|1513828388284|NextSong|      0|\n",
      "|   100|1513750214284|NextSong|      0|\n",
      "|   100|1513750442284|NextSong|      0|\n",
      "|   100|1513775431284|    Home|      1|\n",
      "|   100|1513775556284|NextSong|      0|\n",
      "|   100|1513775710284|NextSong|      0|\n",
      "|   100|1513776194284|    Home|      1|\n",
      "|   100|1513776308284|NextSong|      0|\n",
      "|   100|1513839673284|    Home|      1|\n",
      "|  1000|1513720878284|NextSong|      0|\n",
      "|  1003|1513749501284|    Home|      1|\n",
      "|  1003|1513749516284|NextSong|      0|\n",
      "|  1003|1513749525284|    Home|      1|\n",
      "|  1005|1513782278284|NextSong|      0|\n",
      "|  1006|1513773548284|NextSong|      0|\n",
      "|  1006|1513773777284|NextSong|      0|\n",
      "|  1006|1513774019284|NextSong|      0|\n",
      "|  1017|1513817806284|NextSong|      0|\n",
      "|  1017|1513818023284|NextSong|      0|\n",
      "+------+-------------+--------+-------+\n",
      "only showing top 20 rows\n",
      "\n"
     ]
    }
   ],
   "source": [
    "spark_session.sql('''\n",
    "    WITH flag_table AS(\n",
    "        SELECT userId, ts, page, CAST(page == \"Home\" AS int) AS is_home\n",
    "        FROM spark_log_table\n",
    "        WHERE (page == \"Home\" OR page == \"NextSong\") AND (userId != \"\")        \n",
    "        ORDER BY userId, ts ASC\n",
    "        )\n",
    "    SELECT * FROM flag_table\n",
    "    ''').show()\n",
    "                \n"
   ]
  },
  {
   "cell_type": "code",
   "execution_count": 17,
   "metadata": {},
   "outputs": [
    {
     "name": "stdout",
     "output_type": "stream",
     "text": [
      "+------+-------------+-------+------+\n",
      "|userId|           ts|is_home|period|\n",
      "+------+-------------+-------+------+\n",
      "|    10|1513790894284|      0|     0|\n",
      "|    10|1513828388284|      0|     0|\n",
      "|   100|1513750214284|      0|     0|\n",
      "|   100|1513750442284|      0|     0|\n",
      "|   100|1513775431284|      1|     1|\n",
      "|   100|1513775556284|      0|     1|\n",
      "|   100|1513775710284|      0|     1|\n",
      "|   100|1513776194284|      1|     2|\n",
      "|   100|1513776308284|      0|     2|\n",
      "|   100|1513839673284|      1|     3|\n",
      "|  1000|1513720878284|      0|     0|\n",
      "|  1003|1513749501284|      1|     1|\n",
      "|  1003|1513749516284|      0|     1|\n",
      "|  1003|1513749525284|      1|     2|\n",
      "|  1005|1513782278284|      0|     0|\n",
      "|  1006|1513773548284|      0|     0|\n",
      "|  1006|1513773777284|      0|     0|\n",
      "|  1006|1513774019284|      0|     0|\n",
      "|  1017|1513817806284|      0|     0|\n",
      "|  1017|1513818023284|      0|     0|\n",
      "+------+-------------+-------+------+\n",
      "only showing top 20 rows\n",
      "\n"
     ]
    }
   ],
   "source": [
    "# TODO: write your code to answer question 5\n",
    "spark_session.sql('''\n",
    "    WITH flag_table AS(\n",
    "        SELECT userId, ts, page, CAST(page == \"Home\" AS int) AS is_home\n",
    "        FROM spark_log_table\n",
    "        WHERE (page == \"Home\" OR page == \"NextSong\") AND (userId != \"\")        \n",
    "        ORDER BY userId, ts ASC\n",
    "    ),\n",
    "    flag_period AS(\n",
    "        SELECT userId, ts, is_home, \n",
    "        sum(is_home) OVER (PARTITION BY userId ORDER BY ts ASC ROWS UNBOUNDED PRECEDING) AS period\n",
    "        FROM flag_table\n",
    "        ORDER BY userId, ts\n",
    "    )\n",
    "    SELECT * FROM flag_period\n",
    "    \n",
    "''').show()"
   ]
  },
  {
   "cell_type": "code",
   "execution_count": 20,
   "metadata": {},
   "outputs": [
    {
     "name": "stdout",
     "output_type": "stream",
     "text": [
      "+------+------+---------+\n",
      "|userId|period|count(ts)|\n",
      "+------+------+---------+\n",
      "|    10|     0|        2|\n",
      "|   100|     0|        2|\n",
      "|   100|     1|        2|\n",
      "|   100|     2|        1|\n",
      "|  1000|     0|        1|\n",
      "|  1003|     1|        1|\n",
      "|  1005|     0|        1|\n",
      "|  1006|     0|        3|\n",
      "|  1017|     0|        6|\n",
      "|  1017|     1|        3|\n",
      "|  1017|     2|        1|\n",
      "|  1019|     2|        3|\n",
      "|  1019|     3|        3|\n",
      "|  1019|     5|       16|\n",
      "|  1020|     1|        4|\n",
      "|  1022|     0|        2|\n",
      "|  1025|     0|        4|\n",
      "|  1030|     0|        1|\n",
      "|  1035|     0|       15|\n",
      "|  1035|     1|        6|\n",
      "+------+------+---------+\n",
      "only showing top 20 rows\n",
      "\n"
     ]
    }
   ],
   "source": [
    "# TODO: write your code to answer question 5\n",
    "spark_session.sql('''\n",
    "    WITH flag_table AS(\n",
    "        SELECT userId, ts, page, CAST(page == \"Home\" AS int) AS is_home\n",
    "        FROM spark_log_table\n",
    "        WHERE (page == \"Home\" OR page == \"NextSong\") AND (userId != \"\")        \n",
    "        ORDER BY userId, ts ASC\n",
    "    ),\n",
    "    flag_period AS(\n",
    "        SELECT userId, ts, is_home, \n",
    "        sum(is_home) OVER (PARTITION BY userId ORDER BY ts ASC ROWS UNBOUNDED PRECEDING) AS period\n",
    "        FROM flag_table\n",
    "        ORDER BY userId, ts\n",
    "    )\n",
    "    SELECT userId, period, count(ts)\n",
    "    FROM flag_period\n",
    "    WHERE is_home == 0\n",
    "    GROUP BY userId, period\n",
    "    ORDER BY userId, period\n",
    "    \n",
    "''').show()"
   ]
  },
  {
   "cell_type": "code",
   "execution_count": 22,
   "metadata": {},
   "outputs": [
    {
     "name": "stdout",
     "output_type": "stream",
     "text": [
      "+------------------+\n",
      "|     avg(nb_songs)|\n",
      "+------------------+\n",
      "|6.9558333333333335|\n",
      "+------------------+\n",
      "\n"
     ]
    }
   ],
   "source": [
    "# TODO: write your code to answer question 5\n",
    "spark_session.sql('''\n",
    "    WITH flag_table AS(\n",
    "        SELECT userId, ts, page, CAST(page == \"Home\" AS int) AS is_home\n",
    "        FROM spark_log_table\n",
    "        WHERE (page == \"Home\" OR page == \"NextSong\") AND (userId != \"\")        \n",
    "        ORDER BY userId, ts ASC\n",
    "    ),\n",
    "    flag_period AS(\n",
    "        SELECT userId, ts, is_home, \n",
    "        sum(is_home) OVER (PARTITION BY userId ORDER BY ts ASC ROWS UNBOUNDED PRECEDING ROW) AS period\n",
    "        FROM flag_table\n",
    "        ORDER BY userId, ts\n",
    "    ),\n",
    "    nb_songs_per_period AS(\n",
    "    SELECT userId, period, count(ts) AS nb_songs\n",
    "    FROM flag_period\n",
    "    WHERE is_home == 0\n",
    "    GROUP BY userId, period\n",
    "    ORDER BY userId, period\n",
    "    )\n",
    "    SELECT avg(nb_songs)\n",
    "    FROM nb_songs_per_period\n",
    "    GROUP BY 1=1\n",
    "    \n",
    "''').show()"
   ]
  },
  {
   "cell_type": "code",
   "execution_count": null,
   "metadata": {},
   "outputs": [],
   "source": []
  }
 ],
 "metadata": {
  "kernelspec": {
   "display_name": "Python 3",
   "language": "python",
   "name": "python3"
  },
  "language_info": {
   "codemirror_mode": {
    "name": "ipython",
    "version": 3
   },
   "file_extension": ".py",
   "mimetype": "text/x-python",
   "name": "python",
   "nbconvert_exporter": "python",
   "pygments_lexer": "ipython3",
   "version": "3.6.3"
  }
 },
 "nbformat": 4,
 "nbformat_minor": 2
}
